{
 "cells": [
  {
   "cell_type": "code",
   "execution_count": 1,
   "id": "1568b2d0-9591-435d-9e97-f3580b0700c7",
   "metadata": {},
   "outputs": [],
   "source": [
    "import numpy as np\n",
    "import pandas as pd\n",
    "import json"
   ]
  },
  {
   "cell_type": "code",
   "execution_count": 2,
   "id": "ade7ff41-1338-4758-b091-d9e53d2af66d",
   "metadata": {},
   "outputs": [],
   "source": [
    "from sqlalchemy import create_engine\n",
    "import pyodbc"
   ]
  },
  {
   "cell_type": "code",
   "execution_count": 96,
   "id": "a90b14d5-2313-4ea5-a4f0-3dfeb02722b1",
   "metadata": {},
   "outputs": [],
   "source": [
    "def parse_json(file_path, chunk_size=10000):\n",
    "    # Initialize an empty DataFrame to append chunks\n",
    "    df_chunks = []\n",
    "    \n",
    "    # Iterate over chunks of the JSON file\n",
    "    for chunk in pd.read_json(file_path, lines=True, chunksize=chunk_size):\n",
    "        df_chunks.append(chunk)\n",
    "    \n",
    "    # Concatenate all chunks into a single DataFrame\n",
    "    df = pd.concat(df_chunks, ignore_index=True)\n",
    "    return df"
   ]
  },
  {
   "cell_type": "code",
   "execution_count": 97,
   "id": "462d0a9a-1997-4802-9a4c-ae3f48e360c0",
   "metadata": {},
   "outputs": [],
   "source": [
    "business_df = parse_json(file_path='yelp_academic_dataset_business.json')"
   ]
  },
  {
   "cell_type": "code",
   "execution_count": 98,
   "id": "a5926da2-6fb8-41d3-bafd-ef5d9e305a85",
   "metadata": {},
   "outputs": [],
   "source": [
    "checkin_df = parse_json(file_path='yelp_academic_dataset_checkin.json')"
   ]
  },
  {
   "cell_type": "code",
   "execution_count": 99,
   "id": "e3950252-9d8d-46cc-9378-9d830009f250",
   "metadata": {},
   "outputs": [],
   "source": [
    "review_df = parse_json(file_path='yelp_academic_dataset_review.json')"
   ]
  },
  {
   "cell_type": "code",
   "execution_count": 100,
   "id": "98604f1e-53a4-4d1e-b54e-c84cd184e770",
   "metadata": {},
   "outputs": [],
   "source": [
    "tip_df = parse_json(file_path='yelp_academic_dataset_tip.json')"
   ]
  },
  {
   "cell_type": "code",
   "execution_count": 101,
   "id": "effafd0f-30dc-4516-ab53-1aec21468019",
   "metadata": {},
   "outputs": [],
   "source": [
    "user_df = parse_json(file_path='yelp_academic_dataset_user.json')"
   ]
  },
  {
   "cell_type": "markdown",
   "id": "23c7a8c1-80a0-4579-a5a8-7285f94f40e4",
   "metadata": {},
   "source": [
    "# Connecting to SQL SERVER"
   ]
  },
  {
   "cell_type": "code",
   "execution_count": 3,
   "id": "89f0f10e-cfc7-45bd-a69f-50f0045ecded",
   "metadata": {},
   "outputs": [],
   "source": [
    "SERVER = 'awpsg\\\\SQLEXPRESS'\n",
    "DATABASE = 'yelpdb'\n",
    "DRIVER = 'ODBC Driver 17 for SQL Server'\n",
    "connecting_string = f\"mssql+pyodbc://@{SERVER}/{DATABASE}?trusted_connection=yes&driver={DRIVER}\""
   ]
  },
  {
   "cell_type": "code",
   "execution_count": 4,
   "id": "ddae14ae-49d5-4868-a93e-88f6fbd14692",
   "metadata": {},
   "outputs": [],
   "source": [
    "engine = create_engine(connecting_string)"
   ]
  },
  {
   "cell_type": "markdown",
   "id": "636536a4-82fd-4cb2-81aa-c06d6c88af95",
   "metadata": {},
   "source": [
    "# Loding the df to SQL SERVER"
   ]
  },
  {
   "cell_type": "code",
   "execution_count": 116,
   "id": "b212133e-30a4-44c0-9993-985fe2caf4f0",
   "metadata": {},
   "outputs": [],
   "source": [
    "def load_df_to_db(dataframe, table_name, engine):\n",
    "    try:\n",
    "        dataframe.to_sql(table_name, con=engine, if_exists='replace', index=False)\n",
    "        return f\"{table_name} sucessfully created\"\n",
    "    except Exception as e:\n",
    "        return f\"An error occurred: {e}\""
   ]
  },
  {
   "cell_type": "code",
   "execution_count": 119,
   "id": "1e34060a-afce-4acb-9560-495c140eb5e2",
   "metadata": {},
   "outputs": [
    {
     "data": {
      "text/plain": [
       "'business sucessfully created'"
      ]
     },
     "execution_count": 119,
     "metadata": {},
     "output_type": "execute_result"
    }
   ],
   "source": [
    "load_df_to_db(dataframe=tip_df, table_name='business', engine=engine)"
   ]
  },
  {
   "cell_type": "code",
   "execution_count": 125,
   "id": "813feff5-39dd-4a32-9250-3b61904cc532",
   "metadata": {},
   "outputs": [
    {
     "data": {
      "text/plain": [
       "'users sucessfully created'"
      ]
     },
     "execution_count": 125,
     "metadata": {},
     "output_type": "execute_result"
    }
   ],
   "source": [
    "load_df_to_db(dataframe=user_df, table_name='users', engine=engine)"
   ]
  },
  {
   "cell_type": "code",
   "execution_count": 126,
   "id": "58e49871-7856-45c2-a729-04c0e825214a",
   "metadata": {},
   "outputs": [
    {
     "data": {
      "text/plain": [
       "'tips sucessfully created'"
      ]
     },
     "execution_count": 126,
     "metadata": {},
     "output_type": "execute_result"
    }
   ],
   "source": [
    "load_df_to_db(dataframe=tip_df, table_name='tips', engine=engine)"
   ]
  },
  {
   "cell_type": "code",
   "execution_count": 129,
   "id": "e8b27cb3-2520-40cf-9300-930d44db92f9",
   "metadata": {},
   "outputs": [
    {
     "data": {
      "text/plain": [
       "'checkins sucessfully created'"
      ]
     },
     "execution_count": 129,
     "metadata": {},
     "output_type": "execute_result"
    }
   ],
   "source": [
    "load_df_to_db(dataframe=checkin_df, table_name='checkins', engine=engine)"
   ]
  },
  {
   "cell_type": "code",
   "execution_count": 132,
   "id": "0d546a90-374d-420a-8828-abe492fc1bb4",
   "metadata": {},
   "outputs": [
    {
     "data": {
      "text/plain": [
       "'reviews sucessfully created'"
      ]
     },
     "execution_count": 132,
     "metadata": {},
     "output_type": "execute_result"
    }
   ],
   "source": [
    "load_df_to_db(dataframe=review_df, table_name='reviews', engine=engine)"
   ]
  },
  {
   "cell_type": "code",
   "execution_count": 155,
   "id": "364312e8-fe0b-4a57-af59-e4ff1dec1c7d",
   "metadata": {},
   "outputs": [],
   "source": [
    "business_df.drop(['attributes'], axis=1 ,inplace=True)"
   ]
  },
  {
   "cell_type": "code",
   "execution_count": 159,
   "id": "53f817ec-1f23-4a29-9c8f-74e103a774d5",
   "metadata": {},
   "outputs": [],
   "source": [
    "business_df.drop(['hours'], axis=1 ,inplace=True)"
   ]
  },
  {
   "cell_type": "code",
   "execution_count": 160,
   "id": "c5b50b93-70d2-440f-b0b6-26671905ea15",
   "metadata": {},
   "outputs": [
    {
     "data": {
      "text/plain": [
       "'business sucessfully created'"
      ]
     },
     "execution_count": 160,
     "metadata": {},
     "output_type": "execute_result"
    }
   ],
   "source": [
    "load_df_to_db(dataframe=business_df, table_name='business', engine=engine)"
   ]
  }
 ],
 "metadata": {
  "kernelspec": {
   "display_name": "Python 3 (ipykernel)",
   "language": "python",
   "name": "python3"
  },
  "language_info": {
   "codemirror_mode": {
    "name": "ipython",
    "version": 3
   },
   "file_extension": ".py",
   "mimetype": "text/x-python",
   "name": "python",
   "nbconvert_exporter": "python",
   "pygments_lexer": "ipython3",
   "version": "3.12.2"
  }
 },
 "nbformat": 4,
 "nbformat_minor": 5
}
